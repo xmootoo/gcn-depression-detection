{
 "cells": [
  {
   "cell_type": "markdown",
   "metadata": {},
   "source": [
    "#### File Organization\n",
    "The raw HUSM dataset can be downloaded from: https://figshare.com/articles/dataset/EEG_Data_New/4244171/2, where the data is not organized into folders, so we'll use the `move_files` function from `preprocessing.py` to organize the data into two folders `MDD` and `HC` which represent Major Depressive Disorder and Healthy Controls respectively. The `move_files` function also creates subfolders within `MDD` and `HC`, each containing `EC`, `EO`, and `TASK` corresponding to different activities the subjects were engaged in: Eyes Closed, Eyes Open, or engaged in a task."
   ]
  },
  {
   "cell_type": "code",
   "execution_count": null,
   "metadata": {},
   "outputs": [],
   "source": [
    "from preprocessing import move_files\n",
    "source_directory = r\"/Users/user/Documents/Data/HUSM_dataset/...\"\n",
    "move_files(source_directory)"
   ]
  }
 ],
 "metadata": {
  "language_info": {
   "name": "python"
  },
  "orig_nbformat": 4
 },
 "nbformat": 4,
 "nbformat_minor": 2
}
